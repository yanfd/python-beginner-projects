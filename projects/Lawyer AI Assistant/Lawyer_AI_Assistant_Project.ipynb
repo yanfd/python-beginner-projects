{
  "nbformat": 4,
  "nbformat_minor": 0,
  "metadata": {
    "colab": {
      "provenance": []
    },
    "kernelspec": {
      "name": "python3",
      "display_name": "Python 3"
    },
    "language_info": {
      "name": "python"
    }
  },
  "cells": [
    {
      "cell_type": "markdown",
      "source": [
        "**Lawyer AI Assistant Project**"
      ],
      "metadata": {
        "id": "1ZIiqAXN9bPV"
      }
    },
    {
      "cell_type": "code",
      "source": [
        "import nltk\n",
        "import os\n",
        "import re\n",
        "import numpy as np\n",
        "from sklearn.feature_extraction.text import TfidfVectorizer\n",
        "from sklearn.metrics.pairwise import cosine_similarity\n",
        "\n",
        "# Make sure you have NLTK data downloaded for tokenization and stopwords\n",
        "nltk.download(\"punkt\")\n",
        "nltk.download(\"stopwords\")"
      ],
      "metadata": {
        "id": "7L5y2oW39S6J"
      },
      "execution_count": null,
      "outputs": []
    },
    {
      "cell_type": "markdown",
      "source": [
        "The load_legal_documents function is used to load legal documents from a specified directory."
      ],
      "metadata": {
        "id": "5-kt17AB9TgT"
      }
    },
    {
      "cell_type": "code",
      "source": [
        "# Define a function to load legal documents from a directory\n",
        "def load_legal_documents(directory_path):\n",
        "    documents = []\n",
        "    for filename in os.listdir(directory_path):\n",
        "        if filename.endswith(\".txt\"):\n",
        "            with open(os.path.join(directory_path, filename), \"r\", encoding=\"utf-8\") as file:\n",
        "                document_text = file.read()\n",
        "                documents.append(document_text)\n",
        "    return documents\n",
        "\n",
        "# Load legal documents from a directory (replace 'your_directory' with the actual path)\n",
        "legal_documents_directory = \"your_directory\"\n",
        "legal_documents = load_legal_documents(legal_documents_directory)"
      ],
      "metadata": {
        "id": "jcSGZL_s9rRD"
      },
      "execution_count": null,
      "outputs": []
    },
    {
      "cell_type": "markdown",
      "source": [
        "The preprocess_documents function tokenizes and preprocesses the loaded legal documents."
      ],
      "metadata": {
        "id": "UpKpnEHl9x0I"
      }
    },
    {
      "cell_type": "code",
      "source": [
        "# Preprocess and tokenize legal documents\n",
        "def preprocess_documents(documents):\n",
        "    processed_documents = []\n",
        "    for document in documents:\n",
        "        # Tokenize sentences\n",
        "        sentences = nltk.sent_tokenize(document)\n",
        "\n",
        "        # Tokenize words and remove stopwords\n",
        "        words = [word for word in nltk.word_tokenize(document.lower()) if word.isalnum() and word not in nltk.corpus.stopwords.words(\"english\")]\n",
        "\n",
        "        # Combine sentences and words\n",
        "        processed_documents.append(\" \".join(sentences + words))\n",
        "    return processed_documents\n",
        "\n",
        "processed_legal_documents = preprocess_documents(legal_documents)"
      ],
      "metadata": {
        "id": "D9bfolTe92Xe"
      },
      "execution_count": null,
      "outputs": []
    },
    {
      "cell_type": "markdown",
      "source": [
        "The rest of the code for TF-IDF vectorization and document similarity search remains the same as in the previous example."
      ],
      "metadata": {
        "id": "LhhK305m94Hv"
      }
    },
    {
      "cell_type": "code",
      "source": [
        "# Create TF-IDF vectorizer\n",
        "tfidf_vectorizer = TfidfVectorizer()\n",
        "\n",
        "# Fit and transform the documents\n",
        "tfidf_matrix = tfidf_vectorizer.fit_transform(processed_legal_documents)\n",
        "\n",
        "# Define a function to search for relevant legal documents\n",
        "def search_legal_documents(query, tfidf_matrix, documents):\n",
        "    # Preprocess the query\n",
        "    processed_query = preprocess_documents([query])[0]\n",
        "\n",
        "    # Transform the query using the TF-IDF vectorizer\n",
        "    query_vector = tfidf_vectorizer.transform([processed_query])\n",
        "\n",
        "    # Calculate cosine similarity between the query and all documents\n",
        "    similarity_scores = cosine_similarity(query_vector, tfidf_matrix)\n",
        "\n",
        "    # Get the index of the most similar document\n",
        "    most_similar_index = np.argmax(similarity_scores)\n",
        "\n",
        "    # Return the most relevant legal document\n",
        "    return documents[most_similar_index]\n",
        "\n",
        "# Example query\n",
        "user_query = \"I need information about intellectual property rights.\"\n",
        "result = search_legal_documents(user_query, tfidf_matrix, legal_documents)\n",
        "print(result)\n"
      ],
      "metadata": {
        "id": "KmQRYwx48DM1"
      },
      "execution_count": null,
      "outputs": []
    }
  ]
}